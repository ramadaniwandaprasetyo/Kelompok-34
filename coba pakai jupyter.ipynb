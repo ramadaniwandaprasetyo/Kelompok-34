{
 "cells": [
  {
   "cell_type": "markdown",
   "metadata": {},
   "source": [
    "# Menulis Kode Python Pertama\n",
    "\n",
    "## Tujuan\n",
    "\n",
    "Setelah menyelesaikan lab ini kita akan dapat:\n",
    "\n",
    "* menulis kode dasar dengan Python\n",
    "* bekerja dengan berbagai tipe data dengan Python\n",
    "* mengkonversi data dari satu tipe ke tipe lainnya\n",
    "* menggunakan ekspresi dan variabel untuk melakukan operasi"
   ]
  },
  {
   "cell_type": "markdown",
   "metadata": {},
   "source": [
    "<h2>Daftar Isi</h2>\n",
    "<div class=\"alert alert-block alert-info\" style=\"margin-top: 20px\">\n",
    "    <ul>\n",
    "        <li>\n",
    "            <a href=\"#hello\">Katakan \"Hello\" pada dunia dengan Python</a>\n",
    "            <ul>\n",
    "                <li><a href=\"version\">Versi Python apa yang kita gunakan?</a></li>\n",
    "                <li><a href=\"comments\">Menulis komentar di Python</a></li>\n",
    "                <li><a href=\"errors\">Errors  / Kesalahan dalam Python</a></li>\n",
    "                <li><a href=\"python_error\">Apakah Python mengetahui kesalahan sebelum menjalankan kode kita?</a></li>\n",
    "                <li><a href=\"exercise\">Latihan: Program Pertama</a></li>\n",
    "            </ul>\n",
    "        </li>\n",
    "        <li>\n",
    "            <a href=\"#types_objects\">Tipe Objek di Python</a>\n",
    "            <ul>\n",
    "                <li><a href=\"int\">Integer</a></li>\n",
    "                <li><a href=\"float\">Float</a></li>\n",
    "                <li><a href=\"convert\">Mengonversi dari satu tipe objek ke tipe objek lain</a></li>\n",
    "                <li><a href=\"bool\">Boolean data type</a></li>\n",
    "                <li><a href=\"exer_type\">Latihan: Types</a></li>\n",
    "            </ul>\n",
    "        </li>\n",
    "        <li>\n",
    "            <a href=\"#expressions\">Ekspresi dan Variabel</a>\n",
    "            <ul>\n",
    "                <li><a href=\"exp\">Ekspresi</a></li>\n",
    "                <li><a href=\"exer_exp\">Latihan: Ekspresi</a></li>\n",
    "                <li><a href=\"var\">Variabel</a></li>\n",
    "                <li><a href=\"exer_exp_var\">Latihan: Ekspresi dan Variabel Python</a></li>\n",
    "            </ul>\n",
    "        </li>\n",
    "    </ul>\n",
    "    <p>\n",
    "        Perkiraan waktu yang dibutuhkan: <strong>25 menit</strong>\n",
    "    </p>\n",
    "</div>\n",
    "\n",
    "<hr>\n"
   ]
  },
  {
   "cell_type": "markdown",
   "metadata": {},
   "source": [
    "<h2 id=\"hello\">Katakan \"Hello\" pada dunia dengan Python</h2>\n"
   ]
  },
  {
   "cell_type": "markdown",
   "metadata": {},
   "source": [
    "Saat mempelajari bahasa pemrograman baru, biasanya dimulai dengan contoh \"hello world\". Sesederhana itu, satu baris kode ini akan memastikan bahwa kita mengetahui cara mencetak string dalam output dan cara mengeksekusi kode di dalam suatu _cell_ di _notebook_."
   ]
  },
  {
   "cell_type": "markdown",
   "metadata": {},
   "source": [
    "<hr/>\n",
    "<div class=\"alert alert-success alertsuccess\" style=\"margin-top: 20px\">\n",
    "[Tip]: Untuk mengeksekusi kode Python di _cell_ kode di bawah, klik _cell_ untuk memilihnya dan tekan <kbd>Shift</kbd> + <kbd>Enter</kbd>.\n",
    "</div>\n",
    "<hr/>\n"
   ]
  },
  {
   "cell_type": "code",
   "execution_count": null,
   "metadata": {},
   "outputs": [],
   "source": [
    "# Coba keluaran Python pertama Anda\n",
    "\n",
    "print('Hello, Python!')"
   ]
  },
  {
   "cell_type": "markdown",
   "metadata": {},
   "source": [
    "After executing the cell above, you should see that Python prints <code>Hello, Python!</code>. Congratulations on running your first Python code!\n"
   ]
  },
  {
   "cell_type": "code",
   "execution_count": null,
   "metadata": {},
   "outputs": [],
   "source": [
    "print(\"Let's test this!\")"
   ]
  },
  {
   "cell_type": "markdown",
   "metadata": {},
   "source": [
    "<hr/>\n",
    "<div class=\"alert alert-success alertsuccess\" style=\"margin-top: 20px\">\n",
    "    [Tip:] <code>print()</code> adalah sebuah fungsi. Kita memasukkan string <code>'Hello, Python!'</code> sebagai argumen untuk menginstruksikan Python apa yang harus dicetak.\n",
    "</div>\n",
    "<hr/>\n"
   ]
  },
  {
   "cell_type": "markdown",
   "metadata": {},
   "source": [
    "<h3 id=\"version\">Versi Python apa yang kita gunakan?</h3>\n"
   ]
  },
  {
   "cell_type": "markdown",
   "metadata": {},
   "source": [
    "<p>\n",
    "    Ada dua versi populer bahasa pemrograman Python yang digunakan saat ini: Python 2 dan Python 3. Komunitas Python telah memutuskan untuk beralih dari Python 2 ke Python 3, dan banyak perpustakaan populer telah mengumumkan bahwa mereka tidak lagi mendukung Python 2.\n",
    "</p>\n",
    "<p>\n",
    "    Karena Python 3 adalah masa depan, dalam kursus ini kita hanya akan menggunakannya. Bagaimana kita tahu bahwa notebook kita dijalankan oleh runtime Python 3? Kita bisa melihat di pojok kanan atas notebook ini dan melihat \"Python 3\".\n",
    "</p>\n",
    "<p>\n",
    "    Kita juga bisa bertanya langsung pada Python dan mendapatkan jawaban detailnya. Coba jalankan kode berikut:\n",
    "</p>\n"
   ]
  },
  {
   "cell_type": "code",
   "execution_count": null,
   "metadata": {},
   "outputs": [],
   "source": [
    "# Check the Python Version\n",
    "\n",
    "import sys\n",
    "print(sys.version)"
   ]
  },
  {
   "cell_type": "markdown",
   "metadata": {},
   "source": [
    "<hr/>\n",
    "<div class=\"alert alert-success alertsuccess\" style=\"margin-top: 20px\">\n",
    "    [Tip:] <code>sys</code> is a built-in module that contains many system-specific parameters and functions, including the Python version in use. Before using it, we must explictly <code>import</code> it.\n",
    "</div>\n",
    "<hr/>\n"
   ]
  },
  {
   "cell_type": "markdown",
   "metadata": {},
   "source": [
    "<h3 id=\"comments\">Menulis komentar di Python</h3>\n"
   ]
  },
  {
   "cell_type": "markdown",
   "metadata": {},
   "source": [
    "<p>\n",
    "    Selain menulis kode, perhatikan bahwa menambahkan komentar ke kode kita adalah ide yang bagus. Ini akan membantu orang lain memahami apa yang ingin dicapai (alasan mengapa kita menulis cuplikan kode tertentu). Hal ini tidak hanya membantu <strong>orang lain</strong> memahami kode kita, tetapi juga berfungsi sebagai pengingat <strong>bagi kita sendiri</strong> ketika kita kembali menggunakannya berminggu-minggu atau berbulan-bulan kemudian.</p>\n",
    "\n",
    "<p>\n",
    "    Untuk menulis komentar dengan Python, gunakan simbol angka <code>#</code> sebelum menulis komentar kita. Saat Anda menjalankan kode, Python akan mengabaikan semua yang melewati <code>#</code> pada baris tertentu.\n",
    "</p>\n"
   ]
  },
  {
   "cell_type": "code",
   "execution_count": null,
   "metadata": {},
   "outputs": [],
   "source": [
    "# Latihan menulis komentar\n",
    "\n",
    "print('Hello, Python!') # Baris ini mencetak string\n",
    "# print('Hi')"
   ]
  },
  {
   "cell_type": "markdown",
   "metadata": {},
   "source": [
    "<p>\n",
    "    Setelah mengeksekusi sel di atas, kita akan melihat bahwa <code>Baris ini mencetak string</code> tidak muncul di output, karena itu adalah komentar (dan karenanya diabaikan oleh Python).\n",
    "</p>\n",
    "<p>\n",
    "     Baris kedua juga tidak dieksekusi karena <code>print('Hi')</code> juga diawali dengan tanda angka (<code>#</code>)! Karena ini bukan komentar penjelasan dari pemrogram, namun merupakan baris kode sebenarnya, kita dapat mengatakan bahwa pemrogram <em>mengomentari</em> baris kode kedua tersebut.\n",
    "</p>\n"
   ]
  },
  {
   "cell_type": "markdown",
   "metadata": {},
   "source": [
    "<h3 id=\"errors\">Error / Kesalahan dalam Python</h3>\n"
   ]
  },
  {
   "cell_type": "markdown",
   "metadata": {},
   "source": [
    "<p>Setiap orang pasti pernah melakukan kesalahan. Untuk banyak jenis kesalahan, Python akan memberi tahu kita bahwa kita telah melakukan kesalahan dengan memberikan pesan kesalahan. Penting untuk membaca pesan kesalahan dengan cermat untuk benar-benar memahami di mana kita melakukan kesalahan dan bagaimana kita dapat memperbaikinya.</p>\n",
    "<p>Misalnya, jika Anda mengeja <code>print</code> sebagai <code>frint</code>, Python akan menampilkan pesan kesalahan. Cobalah:</p>\n"
   ]
  },
  {
   "cell_type": "code",
   "execution_count": null,
   "metadata": {},
   "outputs": [],
   "source": [
    "# Print string as error message\n",
    "\n",
    "frint(\"Hello, Python!\")"
   ]
  },
  {
   "cell_type": "markdown",
   "metadata": {},
   "source": [
    "<p>Pesan kesalahan memberitahukan Anda:\n",
    "<ol>\n",
    "     <li>tempat terjadinya kesalahan (lebih berguna pada sel atau skrip buku catatan besar), dan</li>\n",
    "     <li>jenis kesalahan apa itu (NameError)</li>\n",
    "</ol>\n",
    "<p>Di sini, Python mencoba menjalankan fungsi <code>frint</code>, tetapi tidak dapat menentukan apa itu <code>frint</code> karena ini bukan fungsi bawaan dan belum ditentukan sebelumnya oleh kami juga.</p>"
   ]
  },
  {
   "cell_type": "markdown",
   "metadata": {},
   "source": [
    "<p>\n",
    "     Kita akan melihat bahwa jika kita membuat jenis kesalahan yang berbeda, dengan lupa menutup string, kita akan mendapatkan kesalahan yang berbeda (yaitu, <code>SyntaxError</code>). Cobalah di bawah ini:\n",
    "</p>"
   ]
  },
  {
   "cell_type": "code",
   "execution_count": null,
   "metadata": {},
   "outputs": [],
   "source": [
    "# Cobalah untuk melihat pesan kesalahan bawaan (built-in)\n",
    "\n",
    "print(\"Hello, Python!)"
   ]
  },
  {
   "cell_type": "markdown",
   "metadata": {},
   "source": [
    "<h3 id=\"python_error\">Apakah Python mengetahui kesalahan sebelum menjalankan kode kita?</h3>\n"
   ]
  },
  {
   "cell_type": "markdown",
   "metadata": {},
   "source": [
    "Python adalah apa yang disebut <em>interpreted language / bahasa yang ditafsirkan</em>. Bahasa yang dikompilasi memeriksa seluruh program kita pada waktu kompilasi, dan dapat memperingatkan kita tentang seluruh kelas kesalahan sebelum eksekusi. Sebaliknya, Python menafsirkan skrip kita baris demi baris saat dijalankan. Python akan berhenti menjalankan seluruh program ketika menemui kesalahan (kecuali kesalahan tersebut diharapkan dan ditangani oleh pemrogram).\n"
   ]
  },
  {
   "cell_type": "markdown",
   "metadata": {},
   "source": [
    "Coba jalankan kode pada _cell_ di bawah ini dan lihat apa yang terjadi:"
   ]
  },
  {
   "cell_type": "code",
   "execution_count": null,
   "metadata": {},
   "outputs": [],
   "source": [
    "# Cetak string dan kesalahan untuk melihat urutan yang berjalan\n",
    "\n",
    "print(\"This will be printed\")\n",
    "frint(\"This will cause an error\")\n",
    "print(\"This will NOT be printed\")"
   ]
  },
  {
   "cell_type": "markdown",
   "metadata": {},
   "source": [
    "<h3 id=\"exercise\">Latihan: Program Pertama</h3>\n"
   ]
  },
  {
   "cell_type": "markdown",
   "metadata": {},
   "source": [
    "<p>Berbagai generasi programmer telah memulai karir coding mereka hanya dengan mencetak \"Halo, dunia!\". Kita akan mengikuti jejak mereka.</p>\n",
    "<p>Pada sel kode di bawah ini, gunakan fungsi <code>print()</code> untuk mencetak frasa: <code>Hello, world!</code></p>"
   ]
  },
  {
   "cell_type": "code",
   "execution_count": null,
   "metadata": {},
   "outputs": [],
   "source": [
    "# Tulis kode Anda di bawah ini. Jangan lupa tekan Shift+Enter untuk mengeksekusi sel\n"
   ]
  },
  {
   "cell_type": "markdown",
   "metadata": {},
   "source": [
    "<details><summary>Klik di sini untuk solusinya</summary>\n",
    "\n",
    "```python\n",
    "print(\"Hello, world!\")\n",
    "\n",
    "```\n",
    "\n",
    "</details>\n"
   ]
  },
  {
   "cell_type": "markdown",
   "metadata": {},
   "source": [
    "<p>Sekarang, mari tingkatkan kode Anda dengan komentar. Pada sel kode di bawah, cetak frasa: <code>Hello, world!</code> dan beri komentar dengan frasa <code>Print the traditional hello world</code> semuanya dalam satu baris kode.</p >"
   ]
  },
  {
   "cell_type": "code",
   "execution_count": null,
   "metadata": {},
   "outputs": [],
   "source": [
    "# Write your code below. Don't forget to press Shift+Enter to execute the cell\n"
   ]
  },
  {
   "cell_type": "markdown",
   "metadata": {},
   "source": [
    "<details><summary>Klik di sini untuk solusinya</summary>\n",
    "\n",
    "```python\n",
    "print(\"Hello, world!\") # Print the traditional hello world\n",
    "\n",
    "```\n",
    "\n",
    "</details>\n"
   ]
  },
  {
   "cell_type": "markdown",
   "metadata": {},
   "source": [
    "<hr>\n"
   ]
  },
  {
   "cell_type": "markdown",
   "metadata": {},
   "source": [
    "<h2 id=\"types_objects\" align=\"center\">Tipe objek di Python</h2>\n"
   ]
  },
  {
   "cell_type": "markdown",
   "metadata": {},
   "source": [
    "<p>Python adalah bahasa berorientasi objek. Ada banyak tipe objek berbeda di Python. Mari kita mulai dengan tipe objek yang paling umum: <i>string</i>, <i>integer</i> dan <i>floats</i>. Kapan pun kita menulis kata (teks) dengan Python, kita menggunakan <i>karakter string</i> (disingkat string). Sebaliknya, bilangan yang paling umum adalah <i>bilangan bulat</i> (misalnya -1, 0, 100) dan <i>float</i>, yang mewakili bilangan real (misalnya 3.14, -42.0). </p>"
   ]
  },
  {
   "cell_type": "markdown",
   "metadata": {},
   "source": [
    "<a align=\"center\">\n",
    "    <img src=\"https://cf-courses-data.s3.us.cloud-object-storage.appdomain.cloud/IBMDeveloperSkillsNetwork-PY0101EN-SkillsNetwork/labs/Module%201/images/TypesObjects.png\" width=\"600\">\n",
    "</a>\n"
   ]
  },
  {
   "cell_type": "markdown",
   "metadata": {},
   "source": [
    "<p>Sel kode berikut berisi beberapa contoh.</p>\n"
   ]
  },
  {
   "cell_type": "code",
   "execution_count": null,
   "metadata": {},
   "outputs": [],
   "source": [
    "# Integer\n",
    "\n",
    "11"
   ]
  },
  {
   "cell_type": "code",
   "execution_count": null,
   "metadata": {},
   "outputs": [],
   "source": [
    "# Float\n",
    "\n",
    "2.14"
   ]
  },
  {
   "cell_type": "code",
   "execution_count": null,
   "metadata": {},
   "outputs": [],
   "source": [
    "# String\n",
    "\n",
    "\"Hello, Python 101!\""
   ]
  },
  {
   "cell_type": "markdown",
   "metadata": {},
   "source": [
    "<p>Kita bisa membuat Python memberi tahu kita tipe ekspresi dengan menggunakan fungsi <code>type()</code> bawaan. Kita akan melihat bahwa Python mengacu pada bilangan bulat sebagai <code>int</code>, float sebagai <code>float</code>, dan string karakter sebagai <code>str</code>.</p>"
   ]
  },
  {
   "cell_type": "code",
   "execution_count": null,
   "metadata": {},
   "outputs": [],
   "source": [
    "# Tipe angka 12\n",
    "\n",
    "type(12)"
   ]
  },
  {
   "cell_type": "code",
   "execution_count": null,
   "metadata": {},
   "outputs": [],
   "source": [
    "# Tipe angka 2.14\n",
    "\n",
    "type(2.14)"
   ]
  },
  {
   "cell_type": "code",
   "execution_count": null,
   "metadata": {},
   "outputs": [],
   "source": [
    "# Tipe dari teks \"Hello, Python 101!\"\n",
    "\n",
    "type(\"Hello, Python 101!\")"
   ]
  },
  {
   "cell_type": "markdown",
   "metadata": {},
   "source": [
    "<p>Dalam sel kode di bawah, gunakan fungsi <code>type()</code> untuk memeriksa jenis objek <code>12.0</code>."
   ]
  },
  {
   "cell_type": "code",
   "execution_count": null,
   "metadata": {},
   "outputs": [],
   "source": [
    "# Tulis kode di bawah ini. Jangan lupa tekan Shift+Enter untuk mengeksekusi sel\n"
   ]
  },
  {
   "cell_type": "markdown",
   "metadata": {},
   "source": [
    "<details><summary>Klik di sini untuk solusinya</summary>\n",
    "\n",
    "```python\n",
    "type(12.0)\n",
    "\n",
    "```\n",
    "\n",
    "</details>\n"
   ]
  },
  {
   "cell_type": "markdown",
   "metadata": {},
   "source": [
    "<h3 id=\"int\">Integers</h3>\n"
   ]
  },
  {
   "cell_type": "markdown",
   "metadata": {},
   "source": [
    "<p>Berikut beberapa contoh bilangan bulat. Bilangan bulat dapat berupa bilangan negatif atau positif:</p>"
   ]
  },
  {
   "cell_type": "markdown",
   "metadata": {},
   "source": [
    "<a align=\"center\">\n",
    "    <img src=\"https://cf-courses-data.s3.us.cloud-object-storage.appdomain.cloud/IBMDeveloperSkillsNetwork-PY0101EN-SkillsNetwork/labs/Module%201/images/TypesInt.png\" width=\"600\">\n",
    "</a>\n"
   ]
  },
  {
   "cell_type": "markdown",
   "metadata": {},
   "source": [
    "<p>Kami dapat memverifikasi kasus ini dengan menggunakan fungsi <code>type()</code>:"
   ]
  },
  {
   "cell_type": "code",
   "execution_count": null,
   "metadata": {},
   "outputs": [],
   "source": [
    "# Cetak tipe angka -1\n",
    "\n",
    "type(-1)"
   ]
  },
  {
   "cell_type": "code",
   "execution_count": null,
   "metadata": {},
   "outputs": [],
   "source": [
    "# Cetak tipe angka 4\n",
    "\n",
    "type(4)"
   ]
  },
  {
   "cell_type": "code",
   "execution_count": null,
   "metadata": {},
   "outputs": [],
   "source": [
    "# Cetak tipe angka 0\n",
    "\n",
    "type(0)"
   ]
  },
  {
   "cell_type": "markdown",
   "metadata": {},
   "source": [
    "<h3 id=\"float\">Float</h3> \n"
   ]
  },
  {
   "cell_type": "markdown",
   "metadata": {},
   "source": [
    "<p>Float mewakili bilangan real; mereka adalah superset dari bilangan bulat tetapi juga mencakup \"angka dengan desimal\". Ada beberapa keterbatasan dalam hal mesin yang mewakili bilangan real, tetapi bilangan floating point adalah representasi yang baik dalam banyak kasus. Kita dapat mempelajari lebih lanjut tentang spesifikasi float untuk lingkungan runtime, dengan memeriksa nilai <code>sys.float_info</code>. Ini juga akan memberi tahu kita berapa bilangan terbesar dan terkecil yang dapat diwakilinya.</p>\n",
    "\n",
    "<p>Sekali lagi, dapat menguji beberapa contoh dengan fungsi <code>type()</code>:"
   ]
  },
  {
   "cell_type": "code",
   "execution_count": null,
   "metadata": {},
   "outputs": [],
   "source": [
    "# Cetak tipe angka 1.0\n",
    "\n",
    "type(1.0) # Perhatikan bahwa 1 adalah int, dan 1.0 adalah float"
   ]
  },
  {
   "cell_type": "code",
   "execution_count": null,
   "metadata": {},
   "outputs": [],
   "source": [
    "# Cetak tipe angka 0.5\n",
    "\n",
    "type(0.5)"
   ]
  },
  {
   "cell_type": "code",
   "execution_count": null,
   "metadata": {},
   "outputs": [],
   "source": [
    "# Cetak tipe angka 0.56\n",
    "\n",
    "type(0.56)"
   ]
  },
  {
   "cell_type": "code",
   "execution_count": null,
   "metadata": {},
   "outputs": [],
   "source": [
    "# Pengaturan sistem tentang tipe float\n",
    "\n",
    "sys.float_info"
   ]
  },
  {
   "cell_type": "markdown",
   "metadata": {},
   "source": [
    "<h3 id=\"convert\">Mengonversi dari satu jenis objek ke jenis objek lain</h3>"
   ]
  },
  {
   "cell_type": "markdown",
   "metadata": {},
   "source": [
    "<p>Kita dapat mengubah tipe objek dengan Python; ini disebut casting. Misalnya, kita dapat mengonversi <i>integer</i> menjadi <i>float</i> (misalnya 2 hingga 2.0).</p>\n",
    "<p>Ayo kita coba:</p>"
   ]
  },
  {
   "cell_type": "code",
   "execution_count": null,
   "metadata": {},
   "outputs": [],
   "source": [
    "# Verifikasi bahwa ini adalah bilangan bulat\n",
    "\n",
    "type(2)"
   ]
  },
  {
   "cell_type": "markdown",
   "metadata": {},
   "source": [
    "<h4>Mengkonversi bilangan bulat menjadi float</h4>\n",
    "<p>Mari kita masukkan bilangan bulat 2 ke float:</p>\n"
   ]
  },
  {
   "cell_type": "code",
   "execution_count": null,
   "metadata": {},
   "outputs": [],
   "source": [
    "# Ubah bilangan 2 menjadi float\n",
    "\n",
    "float(2)"
   ]
  },
  {
   "cell_type": "code",
   "execution_count": null,
   "metadata": {},
   "outputs": [],
   "source": [
    "# Ubah bilangan bulat 2 menjadi float dan periksa tipenya\n",
    "\n",
    "type(float(2))"
   ]
  },
  {
   "cell_type": "markdown",
   "metadata": {},
   "source": [
    "<p>Saat kita mengonversi bilangan bulat menjadi bilangan bulat, kita tidak benar-benar mengubah nilai (yakni signifikansi) bilangan tersebut. Namun, jika kita memasukkan float ke dalam bilangan bulat, kita berpotensi kehilangan beberapa informasi. Misalnya, jika kita memasukkan float 1.1 ke bilangan bulat, kita akan mendapatkan 1 dan kehilangan informasi desimalnya (yaitu 0.1):</p>"
   ]
  },
  {
   "cell_type": "code",
   "execution_count": null,
   "metadata": {},
   "outputs": [],
   "source": [
    "# Mengubah 1.1 ke bilangan bulat akan mengakibatkan hilangnya informasi\n",
    "\n",
    "int(1.1)"
   ]
  },
  {
   "cell_type": "markdown",
   "metadata": {},
   "source": [
    "<h4>Mengkonversi dari string ke integer atau float</h4>\n"
   ]
  },
  {
   "cell_type": "markdown",
   "metadata": {},
   "source": [
    "<p>Terkadang, kita dapat memiliki string yang berisi angka di dalamnya. Jika hal ini terjadi, kita dapat memasukkan string yang mewakili angka tersebut ke dalam bilangan bulat menggunakan <code>int()</code>:</p>"
   ]
  },
  {
   "cell_type": "code",
   "execution_count": null,
   "metadata": {},
   "outputs": [],
   "source": [
    "# Ubah string menjadi bilangan bulat\n",
    "\n",
    "int('1')"
   ]
  },
  {
   "cell_type": "markdown",
   "metadata": {},
   "source": [
    "<p>Tetapi jika kita mencoba melakukannya dengan string yang tidak cocok dengan suatu angka, kita akan mendapatkan kesalahan. Coba yang berikut ini:</p>"
   ]
  },
  {
   "cell_type": "code",
   "execution_count": null,
   "metadata": {},
   "outputs": [],
   "source": [
    "# Mengubah string menjadi integer dengan error\n",
    "\n",
    "int('1 or 2 people')"
   ]
  },
  {
   "cell_type": "markdown",
   "metadata": {},
   "source": [
    "<p>You can also convert strings containing floating point numbers into <i>float</i> objects:</p>\n"
   ]
  },
  {
   "cell_type": "code",
   "execution_count": null,
   "metadata": {},
   "outputs": [],
   "source": [
    "# Mengubah string \"1.2\" menjadi float\n",
    "\n",
    "float('1.2')"
   ]
  },
  {
   "cell_type": "markdown",
   "metadata": {},
   "source": [
    "<hr/>\n",
    "<div class=\"alert alert-success alertsuccess\" style=\"margin-top: 20px\">\n",
    "    [Tips:] Perhatikan bahwa string dapat direpresentasikan dengan tanda kutip tunggal (<code>'1.2'</code>) atau tanda kutip ganda (<code>\"1.2\"</code>), namun kita tidak dapat menggabungkan keduanya (mis. , <kode>\"1.2'</code>).\n",
    "</div>\n",
    "<hr/>"
   ]
  },
  {
   "cell_type": "markdown",
   "metadata": {},
   "source": [
    "<h4>Mengubah angka menjadi string</h4>\n"
   ]
  },
  {
   "cell_type": "markdown",
   "metadata": {},
   "source": [
    "<p>Jika kita bisa mengubah string menjadi angka, wajar jika kita berasumsi bahwa kita bisa mengubah angka menjadi string, bukan?</p>"
   ]
  },
  {
   "cell_type": "code",
   "execution_count": null,
   "metadata": {},
   "outputs": [],
   "source": [
    "# Mengubah integer menjadi string\n",
    "\n",
    "str(1)"
   ]
  },
  {
   "cell_type": "markdown",
   "metadata": {},
   "source": [
    "<p>And there is no reason why we shouldn't be able to make floats into strings as well:</p> \n"
   ]
  },
  {
   "cell_type": "code",
   "execution_count": null,
   "metadata": {},
   "outputs": [],
   "source": [
    "# Mengubah float menjadi string\n",
    "\n",
    "str(1.2)"
   ]
  },
  {
   "cell_type": "markdown",
   "metadata": {},
   "source": [
    "<h3 id=\"bool\">Tipe Data Boolean</h3>\n"
   ]
  },
  {
   "cell_type": "markdown",
   "metadata": {},
   "source": [
    "<p><i>Boolean</i> adalah tipe penting lainnya dalam Python. Objek bertipe <i>Boolean</i> dapat mengambil salah satu dari dua nilai: <code>True</code> atau <code>False</code>:</p>"
   ]
  },
  {
   "cell_type": "code",
   "execution_count": null,
   "metadata": {},
   "outputs": [],
   "source": [
    "# Nilai benar / true\n",
    "\n",
    "True"
   ]
  },
  {
   "cell_type": "markdown",
   "metadata": {},
   "source": [
    "<p>Perhatikan bahwa nilai <code>True</code> memiliki huruf besar \"T\". Hal yang sama juga berlaku untuk <code>False</code> (yaitu kita harus menggunakan huruf besar \"F\").</p>"
   ]
  },
  {
   "cell_type": "code",
   "execution_count": null,
   "metadata": {},
   "outputs": [],
   "source": [
    "# Nilai salah / false\n",
    "\n",
    "False"
   ]
  },
  {
   "cell_type": "markdown",
   "metadata": {},
   "source": [
    "<p>Saat kita meminta Python untuk menampilkan tipe objek boolean, ia akan menampilkan <code>bool</code> yang merupakan singkatan dari <i>boolean</i>:</p>"
   ]
  },
  {
   "cell_type": "code",
   "execution_count": null,
   "metadata": {},
   "outputs": [],
   "source": [
    "# Tipe data True\n",
    "\n",
    "type(True)"
   ]
  },
  {
   "cell_type": "code",
   "execution_count": null,
   "metadata": {},
   "outputs": [],
   "source": [
    "# Tipe data False\n",
    "\n",
    "type(False)"
   ]
  },
  {
   "cell_type": "markdown",
   "metadata": {},
   "source": [
    "<p>Kita bisa mentransmisikan objek boolean ke tipe data lain. Jika kita memasukkan boolean dengan nilai <code>True</code> ke integer atau float kita akan mendapatkan nilai tersebut. Jika kita memasukkan boolean dengan nilai <code>False</code> ke integer atau float kita akan mendapatkan nol. Demikian pula, jika kita memasukkan angka 1 ke Boolean, kita mendapatkan <code>True</code>. Dan jika kita memasukkan 0 ke Boolean kita akan mendapatkan <code>False</code>. Mari kita mencobanya:</p>"
   ]
  },
  {
   "cell_type": "code",
   "execution_count": null,
   "metadata": {},
   "outputs": [],
   "source": [
    "# Mengubah True ke int\n",
    "\n",
    "int(True)"
   ]
  },
  {
   "cell_type": "code",
   "execution_count": null,
   "metadata": {},
   "outputs": [],
   "source": [
    "# Mengubah 1 ke boolean\n",
    "\n",
    "bool(1)"
   ]
  },
  {
   "cell_type": "code",
   "execution_count": null,
   "metadata": {},
   "outputs": [],
   "source": [
    "bool(12)"
   ]
  },
  {
   "cell_type": "code",
   "execution_count": null,
   "metadata": {},
   "outputs": [],
   "source": [
    "bool(\"Hello\")"
   ]
  },
  {
   "cell_type": "code",
   "execution_count": null,
   "metadata": {},
   "outputs": [],
   "source": [
    "# Mengubah 0 ke boolean\n",
    "\n",
    "bool(0)"
   ]
  },
  {
   "cell_type": "code",
   "execution_count": null,
   "metadata": {},
   "outputs": [],
   "source": [
    "# Mengubah True ke float\n",
    "\n",
    "float(True)"
   ]
  },
  {
   "cell_type": "markdown",
   "metadata": {},
   "source": [
    "<h3 id=\"exer_type\">Latihan: Types</h3>\n"
   ]
  },
  {
   "cell_type": "markdown",
   "metadata": {},
   "source": [
    "<p>Apa tipe data hasil dari: <code>6 / 2</code>?</p>"
   ]
  },
  {
   "cell_type": "code",
   "execution_count": null,
   "metadata": {},
   "outputs": [],
   "source": [
    "# Tulis kodemu di bawah ini. Jangan lupa tekan Shift+Enter untuk mengeksekusi sel\n",
    "type(6/2)"
   ]
  },
  {
   "cell_type": "markdown",
   "metadata": {},
   "source": [
    "<details><summary>Klik di sini untuk solusinya</summary>\n",
    "\n",
    "```python\n",
    "type(6/2) # float\n",
    "\n",
    "```\n",
    "\n",
    "</details>\n"
   ]
  },
  {
   "cell_type": "markdown",
   "metadata": {},
   "source": [
    "<p>Apa tipe data hasil dari: <code>6 // 2</code>? (Perhatikan garis miring ganda <code>//</code>.)</p>\n"
   ]
  },
  {
   "cell_type": "code",
   "execution_count": null,
   "metadata": {},
   "outputs": [],
   "source": [
    "# Tulis kodemu di bawah ini. Jangan lupa tekan Shift+Enter untuk mengeksekusi sel\n",
    "type(6 // 2)"
   ]
  },
  {
   "cell_type": "markdown",
   "metadata": {},
   "source": [
    "<details><summary>Klik di sini untuk solusinya</summary>\n",
    "\n",
    "```python\n",
    "type(6//2) # int, as the double slashes stand for integer division \n",
    "\n",
    "```\n",
    "\n",
    "</details>\n"
   ]
  },
  {
   "cell_type": "code",
   "execution_count": null,
   "metadata": {},
   "outputs": [],
   "source": [
    "8.9999//3"
   ]
  },
  {
   "cell_type": "markdown",
   "metadata": {},
   "source": [
    "<hr>\n"
   ]
  },
  {
   "cell_type": "markdown",
   "metadata": {},
   "source": [
    "<h2 id=\"expressions\">Ekspresi dan Variabel</h2>\n"
   ]
  },
  {
   "cell_type": "markdown",
   "metadata": {},
   "source": [
    "<h3 id=\"exp\">Expressions</h3>\n"
   ]
  },
  {
   "cell_type": "markdown",
   "metadata": {},
   "source": [
    "<p>Ekspresi dalam Python dapat mencakup operasi di antara tipe yang kompatibel (misalnya bilangan bulat dan float). Misalnya operasi aritmatika dasar seperti penjumlahan beberapa bilangan:</p>"
   ]
  },
  {
   "cell_type": "code",
   "execution_count": null,
   "metadata": {},
   "outputs": [],
   "source": [
    "# Ekspresi operasi penjumlahan\n",
    "\n",
    "43 + 60 + 16 + 41"
   ]
  },
  {
   "cell_type": "markdown",
   "metadata": {},
   "source": [
    "<p>Kita dapat melakukan operasi pengurangan menggunakan operator minus. Dalam hal ini hasilnya adalah angka negatif:</p>"
   ]
  },
  {
   "cell_type": "code",
   "execution_count": null,
   "metadata": {},
   "outputs": [],
   "source": [
    "# Ekspresi operasi pengurangan\n",
    "\n",
    "50 - 60"
   ]
  },
  {
   "cell_type": "markdown",
   "metadata": {},
   "source": [
    "<p>Kita bisa melakukan perkalian dengan menggunakan tanda bintang:</p>\n"
   ]
  },
  {
   "cell_type": "code",
   "execution_count": null,
   "metadata": {},
   "outputs": [],
   "source": [
    "# Ekspresi operasi perkalian\n",
    "\n",
    "5 * 5"
   ]
  },
  {
   "cell_type": "markdown",
   "metadata": {},
   "source": [
    "<p>Kita juga dapat melakukan pembagian dengan garis miring ke depan:</p>"
   ]
  },
  {
   "cell_type": "code",
   "execution_count": null,
   "metadata": {},
   "outputs": [],
   "source": [
    "# Ekspresi operasi pembagian\n",
    "\n",
    "25 / 5"
   ]
  },
  {
   "cell_type": "code",
   "execution_count": null,
   "metadata": {},
   "outputs": [],
   "source": [
    "# Ekspresi operasi pembagian\n",
    "\n",
    "25 / 6"
   ]
  },
  {
   "cell_type": "markdown",
   "metadata": {},
   "source": [
    "<p>Seperti yang terlihat pada kuis di atas, kita bisa menggunakan garis miring ganda untuk pembagian bilangan bulat, yang hasilnya dibulatkan ke bawah ke bilangan bulat terdekat:"
   ]
  },
  {
   "cell_type": "code",
   "execution_count": null,
   "metadata": {},
   "outputs": [],
   "source": [
    "# Ekspresi operasi pembagian dengan pembulatan\n",
    "\n",
    "25 // 5"
   ]
  },
  {
   "cell_type": "code",
   "execution_count": null,
   "metadata": {},
   "outputs": [],
   "source": [
    "# Ekspresi operasi pembagian dengan pembulatan\n",
    "\n",
    "25 // 6"
   ]
  },
  {
   "cell_type": "markdown",
   "metadata": {},
   "source": [
    "<h3 id=\"exer_exp\">Latihan: Ekspresi</h3>\n"
   ]
  },
  {
   "cell_type": "markdown",
   "metadata": {},
   "source": [
    "<p>Mari kita tuliskan ekspresi yang menghitung berapa jam dalam 160 menit:</p>"
   ]
  },
  {
   "cell_type": "code",
   "execution_count": null,
   "metadata": {},
   "outputs": [],
   "source": [
    "# Tulis kodemu di bawah ini. Jangan lupa tekan Shift+Enter untuk mengeksekusi sel\n"
   ]
  },
  {
   "cell_type": "markdown",
   "metadata": {},
   "source": [
    "<details><summary>Klik di sini untuk solusinya</summary>\n",
    "\n",
    "```python\n",
    "160/60 \n",
    "\n",
    "# Or \n",
    "\n",
    "160//60\n",
    "\n",
    "```\n",
    "\n",
    "</details>\n"
   ]
  },
  {
   "cell_type": "markdown",
   "metadata": {},
   "source": [
    "<p>Python mengikuti konvensi matematika yang diterima dengan baik saat mengevaluasi ekspresi matematika. Dalam contoh berikut, Python menambahkan 30 ke hasil perkaliannya (yaitu 120)."
   ]
  },
  {
   "cell_type": "code",
   "execution_count": null,
   "metadata": {},
   "outputs": [],
   "source": [
    "# Ekspresi matematika\n",
    "\n",
    "30 + 2 * 60"
   ]
  },
  {
   "cell_type": "markdown",
   "metadata": {},
   "source": [
    "<p>Dan seperti matematika, ekspresi yang diapit tanda kurung memiliki prioritas. Jadi hasil kali berikut ini adalah 32 dengan 60."
   ]
  },
  {
   "cell_type": "code",
   "execution_count": null,
   "metadata": {},
   "outputs": [],
   "source": [
    "# Ekspresi matematika\n",
    "\n",
    "(30 + 2) * 60"
   ]
  },
  {
   "cell_type": "markdown",
   "metadata": {},
   "source": [
    "<h3 id=\"var\">Variables</h3>\n"
   ]
  },
  {
   "cell_type": "markdown",
   "metadata": {},
   "source": [
    "<p>Sama seperti kebanyakan bahasa pemrograman, kita dapat menyimpan nilai dalam <i>variabel</i>, sehingga kita dapat menggunakannya nanti. Misalnya:</p>"
   ]
  },
  {
   "cell_type": "code",
   "execution_count": null,
   "metadata": {},
   "outputs": [],
   "source": [
    "# Simpan nilai ke dalam variabel\n",
    "\n",
    "x = 43 + 60 + 16 + 41"
   ]
  },
  {
   "cell_type": "markdown",
   "metadata": {},
   "source": [
    "<p>Untuk melihat nilai <code>x</code> di Notebook, kita cukup meletakkannya di baris terakhir sel:</p>"
   ]
  },
  {
   "cell_type": "code",
   "execution_count": null,
   "metadata": {},
   "outputs": [],
   "source": [
    "# Cetak nilai dalam variabel\n",
    "\n",
    "x"
   ]
  },
  {
   "cell_type": "markdown",
   "metadata": {},
   "source": [
    "<p>Kita juga dapat melakukan operasi pada <code>x</code> dan menyimpan hasilnya ke variabel baru:</p>"
   ]
  },
  {
   "cell_type": "code",
   "execution_count": null,
   "metadata": {},
   "outputs": [],
   "source": [
    "# Gunakan variabel lain untuk menyimpan hasil operasi antara variabel dan nilai\n",
    "\n",
    "y = x / 60\n",
    "y"
   ]
  },
  {
   "cell_type": "markdown",
   "metadata": {},
   "source": [
    "<p>Jika kita menyimpan nilai ke variabel yang sudah ada, nilai baru akan menimpa nilai sebelumnya:</p>"
   ]
  },
  {
   "cell_type": "code",
   "execution_count": null,
   "metadata": {},
   "outputs": [],
   "source": [
    "# Timpa variabel dengan nilai baru\n",
    "\n",
    "x = x / 60\n",
    "x"
   ]
  },
  {
   "cell_type": "markdown",
   "metadata": {},
   "source": [
    "<p>Sebaiknya gunakan nama variabel yang bermakna, sehingga kita dan orang lain dapat membaca kode dan memahaminya dengan lebih mudah:</p>"
   ]
  },
  {
   "cell_type": "code",
   "execution_count": null,
   "metadata": {},
   "outputs": [],
   "source": [
    "# Beri nama variabel yang mudah dimengerti\n",
    "\n",
    "total_min = 43 + 42 + 57  # Total durasi album dalam hitungan menit\n",
    "total_min"
   ]
  },
  {
   "cell_type": "code",
   "execution_count": null,
   "metadata": {},
   "outputs": [],
   "source": [
    "# Beri nama variabel yang mudah dimengerti\n",
    "\n",
    "total_hours = total_min / 60  # Total durasi album dalam hitungan jam\n",
    "total_hours"
   ]
  },
  {
   "cell_type": "markdown",
   "metadata": {},
   "source": [
    "<p>Pada sel di atas kita menambahkan durasi tiga album dalam hitungan menit dan menyimpannya dalam <code>total_min</code>. Kita kemudian membaginya dengan 60 untuk menghitung total panjang <code>total_hours</code> dalam jam. Kita juga dapat melakukan semuanya sekaligus dalam satu ekspresi, selama kita menggunakan tanda kurung untuk menambahkan panjang album sebelum membaginya, seperti yang ditunjukkan di bawah ini.</p>"
   ]
  },
  {
   "cell_type": "code",
   "execution_count": null,
   "metadata": {},
   "outputs": [],
   "source": [
    "# Ekspresi yang rumit\n",
    "\n",
    "total_hours = (43 + 42 + 57) / 60  # Total jam dalam satu ekspresi\n",
    "total_hours"
   ]
  },
  {
   "cell_type": "markdown",
   "metadata": {},
   "source": [
    "<p>Jika kita lebih suka memiliki total jam sebagai bilangan bulat, tentu saja kita dapat mengganti pembagian floating point dengan pembagian bilangan bulat (yaitu, <code>//</code>).</p>"
   ]
  },
  {
   "cell_type": "markdown",
   "metadata": {},
   "source": [
    "<h3 id=\"exer_exp_var\">Latihan: Ekspresi dan Variabel Python</h3>\n"
   ]
  },
  {
   "cell_type": "markdown",
   "metadata": {},
   "source": [
    "<p>Berapa nilai <code>x</code> di mana <code>x = 3 + 2 * 2</code></p>"
   ]
  },
  {
   "cell_type": "code",
   "execution_count": null,
   "metadata": {},
   "outputs": [],
   "source": [
    "# Tulis kodemu di bawah ini. Jangan lupa tekan Shift+Enter untuk mengeksekusi sel\n",
    "x = 3 + 2 * 2\n",
    "x"
   ]
  },
  {
   "cell_type": "markdown",
   "metadata": {},
   "source": [
    "<details><summary>Klik di sini untuk solusinya</summary>\n",
    "\n",
    "```python\n",
    "7\n",
    "\n",
    "```\n",
    "\n",
    "</details>\n"
   ]
  },
  {
   "cell_type": "markdown",
   "metadata": {},
   "source": [
    "<p>Berapa nilai <code>y</code> di mana <code>y = (3 + 2) * 2</code>?</p>\n"
   ]
  },
  {
   "cell_type": "code",
   "execution_count": null,
   "metadata": {},
   "outputs": [],
   "source": [
    "# Tulis kodemu di bawah ini. Jangan lupa tekan Shift+Enter untuk mengeksekusi sel\n",
    "y = (3 + 2) * 2\n",
    "y"
   ]
  },
  {
   "cell_type": "markdown",
   "metadata": {},
   "source": [
    "<details><summary>Klik di sini untuk solusinya</summary>\n",
    "\n",
    "```python\n",
    "10\n",
    "\n",
    "```\n",
    "\n",
    "</details>\n"
   ]
  },
  {
   "cell_type": "markdown",
   "metadata": {},
   "source": [
    "<p>Berapa nilai <code>z</code> di mana <code>z = x + y</code>?</p>\n"
   ]
  },
  {
   "cell_type": "code",
   "execution_count": null,
   "metadata": {},
   "outputs": [],
   "source": [
    "# Tulis kodemu di bawah ini. Jangan lupa tekan Shift+Enter untuk mengeksekusi sel\n",
    "z = x + y\n",
    "z"
   ]
  },
  {
   "cell_type": "markdown",
   "metadata": {},
   "source": [
    "<details><summary>Klik di sini untuk solusinya</summary>\n",
    "\n",
    "```python\n",
    "17\n",
    "\n",
    "```\n",
    "\n",
    "</details>\n"
   ]
  },
  {
   "cell_type": "markdown",
   "metadata": {},
   "source": [
    "<hr>\n",
    "<h2>Latihan terakhir!</h2>\n",
    "<p>Selamat, kita telah menyelesaikan pelajaran pertama dan praktik langsung dengan Python.\n",
    "<hr>\n"
   ]
  }
 ],
 "metadata": {
  "kernelspec": {
   "display_name": "Python 3 (ipykernel)",
   "language": "python",
   "name": "python3"
  },
  "language_info": {
   "codemirror_mode": {
    "name": "ipython",
    "version": 3
   },
   "file_extension": ".py",
   "mimetype": "text/x-python",
   "name": "python",
   "nbconvert_exporter": "python",
   "pygments_lexer": "ipython3",
   "version": "3.11.8"
  }
 },
 "nbformat": 4,
 "nbformat_minor": 4
}
